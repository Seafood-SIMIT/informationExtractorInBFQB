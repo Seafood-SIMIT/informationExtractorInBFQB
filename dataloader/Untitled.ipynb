{
 "cells": [
  {
   "cell_type": "code",
   "execution_count": 13,
   "id": "11c10cc7-81fe-4d9a-a19e-6a97b93e57c2",
   "metadata": {
    "tags": []
   },
   "outputs": [
    {
     "name": "stdout",
     "output_type": "stream",
     "text": [
      "torch.Size([2, 128, 136]) torch.Size([2, 128, 136])\n",
      "torch.float32 torch.int32\n",
      "tensor(0.8103)\n"
     ]
    }
   ],
   "source": [
    "import torch\n",
    "import torch.nn as nn\n",
    "\n",
    "# 假设模型的输出是大小为 (2, 128, 136) 的张量\n",
    "num_labels = 136  # 标签类别数\n",
    "predictions = torch.randn(2, 128, num_labels,dtype=torch.float32)\n",
    "\n",
    "# 假设每个标签位置上的多标签标签是大小为 (2, 128, 136) 的标签张量（0或1）\n",
    "#label_map = torch.randint(0, 2, (2, 128, num_labels),dtype=torch.int)\n",
    "label_map = torch.zeros((2, 128, num_labels),dtype=torch.int)\n",
    "\n",
    "# 创建带Logits的二元交叉熵损失函数\n",
    "loss_fn = nn.MultiLabelSoftMarginLoss()\n",
    "\n",
    "# 计算损失\n",
    "print(predictions.shape,label_map.shape)\n",
    "print(predictions.dtype,label_map.dtype)\n",
    "loss = loss_fn(predictions, label_map.float())  # 注意需要将标签转换为浮点数\n",
    "\n",
    "print(loss)\n"
   ]
  },
  {
   "cell_type": "code",
   "execution_count": null,
   "id": "9d7f31c9-022a-4d16-9033-f398c28bda29",
   "metadata": {},
   "outputs": [],
   "source": []
  },
  {
   "cell_type": "code",
   "execution_count": null,
   "id": "9d21b888-ef20-45ea-a782-f489a89d1e0c",
   "metadata": {},
   "outputs": [],
   "source": []
  }
 ],
 "metadata": {
  "kernelspec": {
   "display_name": "Python 3 (ipykernel)",
   "language": "python",
   "name": "python3"
  },
  "language_info": {
   "codemirror_mode": {
    "name": "ipython",
    "version": 3
   },
   "file_extension": ".py",
   "mimetype": "text/x-python",
   "name": "python",
   "nbconvert_exporter": "python",
   "pygments_lexer": "ipython3",
   "version": "3.8.10"
  }
 },
 "nbformat": 4,
 "nbformat_minor": 5
}
