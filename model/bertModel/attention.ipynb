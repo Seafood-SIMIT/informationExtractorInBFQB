{
 "cells": [
  {
   "cell_type": "code",
   "execution_count": 10,
   "metadata": {},
   "outputs": [
    {
     "name": "stdout",
     "output_type": "stream",
     "text": [
      "torch.Size([2, 128, 1]) torch.Size([2, 128, 1]) torch.Size([2, 128, 1])\n",
      "输出的形状: torch.Size([2, 128, 1])\n",
      "注意力权重的形状: torch.Size([128, 2, 2])\n"
     ]
    }
   ],
   "source": [
    "import torch\n",
    "import torch.nn as nn\n",
    "\n",
    "# 定义一个示例输入\n",
    "batch_size = 2\n",
    "sequence_length = 128\n",
    "embedding_dim = 1\n",
    "\n",
    "input_sequence = torch.rand(batch_size, sequence_length, 1)\n",
    "\n",
    "entities = torch.rand(batch_size, sequence_length, 1)\n",
    "\n",
    "\n",
    "# 定义多头注意力模块\n",
    "multihead_attention = nn.MultiheadAttention(embed_dim=embedding_dim, num_heads=1)\n",
    "\n",
    "# 假设您有一个query，key和value张量（这些通常是来自输入序列的不同变换）\n",
    "query = input_sequence\n",
    "key = entities\n",
    "value = input_sequence\n",
    "\n",
    "print(query.shape,key.shape,value.shape)\n",
    "# 使用多头注意力计算\n",
    "output, attention_weights = multihead_attention(query, key, value)\n",
    "\n",
    "# 输出是多头注意力的结果\n",
    "# attention_weights 包含了每个头的注意力权重\n",
    "\n",
    "output = output*query\n",
    "print(\"输出的形状:\", output.shape)\n",
    "print(\"注意力权重的形状:\", attention_weights.shape)\n"
   ]
  }
 ],
 "metadata": {
  "kernelspec": {
   "display_name": "ie",
   "language": "python",
   "name": "python3"
  },
  "language_info": {
   "codemirror_mode": {
    "name": "ipython",
    "version": 3
   },
   "file_extension": ".py",
   "mimetype": "text/x-python",
   "name": "python",
   "nbconvert_exporter": "python",
   "pygments_lexer": "ipython3",
   "version": "3.10.13"
  }
 },
 "nbformat": 4,
 "nbformat_minor": 2
}
